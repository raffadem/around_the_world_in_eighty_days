{
 "cells": [
  {
   "cell_type": "code",
   "execution_count": null,
   "metadata": {},
   "outputs": [],
   "source": [
    "from around_the_world import AroundTheWorld\n",
    "import pandas as pd"
   ]
  },
  {
   "cell_type": "code",
   "execution_count": null,
   "metadata": {},
   "outputs": [],
   "source": [
    "# Load the dataframe with cities of the world\n",
    "dataframe = pd.read_excel(\"worldcities.xlsx\")\n",
    "# Instantiate the AroundTheWorld class, with:\n",
    "#  the previous loaded dataframe,\n",
    "#  city_start set to \"London\", the starting city,\n",
    "#  country_start set to \"GB\", the starting country,\n",
    "#  n_min set to 3, the number of the closest cities to which it is possible to travel,\n",
    "#  x_size set to 0.3, the size of the longitudinal side of the grid used to search for the nearest cities\n",
    "#  y_size set to 0.1, the size of the latitudinal side of the grid used to search for the nearest cities\n",
    "#  rise_factor set to 2, the multiplication factor to increase the grid used to search for the nearest cities\n",
    "around = AroundTheWorld(\n",
    "    dataframe, \n",
    "    \"London\", \n",
    "    \"GB\",\n",
    "    n_min = 3, \n",
    "    x_size = 0.3,\n",
    "    y_size = 0.1,\n",
    "    rise_factor = 2)\n",
    "# Run the algorithm that does the journy around the world from the starting city, with:\n",
    "#  is_intermediate_plot set to true, that plots the intermediate journey\n",
    "#  n_intermediate_step set to 100, the number of the step the plot is printed\n",
    "#  is_clear_output set to true, in such a way as to remove previous plots\n",
    "around.travel(\n",
    "    is_intermediate_plot = True,\n",
    "    n_intermediate_step = 100,\n",
    "    is_clear_output = True)"
   ]
  },
  {
   "cell_type": "code",
   "execution_count": null,
   "metadata": {},
   "outputs": [],
   "source": [
    "# Print all the cities visited during the journey\n",
    "pd.set_option(\"display.max_rows\", None, \"display.max_columns\", None)\n",
    "print(around.map_city.to_string(index=False))"
   ]
  }
 ],
 "metadata": {
  "kernelspec": {
   "display_name": "Python 3",
   "language": "python",
   "name": "python3"
  },
  "language_info": {
   "codemirror_mode": {
    "name": "ipython",
    "version": 3
   },
   "file_extension": ".py",
   "mimetype": "text/x-python",
   "name": "python",
   "nbconvert_exporter": "python",
   "pygments_lexer": "ipython3",
   "version": "3.8.3"
  }
 },
 "nbformat": 4,
 "nbformat_minor": 4
}
