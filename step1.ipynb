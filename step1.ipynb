{
 "cells": [
  {
   "cell_type": "code",
   "execution_count": null,
   "metadata": {},
   "outputs": [],
   "source": [
    "import pandas as pd\n",
    "import numpy as np"
   ]
  },
  {
   "cell_type": "code",
   "execution_count": null,
   "metadata": {},
   "outputs": [],
   "source": [
    "# reading the excel file\n",
    "df_start = pd.read_excel('worldcities.xlsx')\n",
    "\n",
    "#get a data frame with selected columns\n",
    "FORMAT = ['city', 'lat', 'lng','country','iso2','population']\n",
    "df_selected = df_start[FORMAT]\n",
    "\n",
    "#insert in the dataframe the flag for the population\n",
    "df_selected[\"flg_pop\"]=df_selected.population.apply(lambda x: 1 if x > 200000 else 0 )\n",
    "\n",
    "# sorting values by longitude\n",
    "df_selected.sort_values(by=['lng'], inplace=True, ignore_index=True)\n",
    "\n",
    "# searching the index of London (GB)\n",
    "rslt_df = df_selected.loc[(df_selected['city'] == 'London') & \n",
    "              (df_selected['iso2']=='GB')] \n",
    "index_of_london = rslt_df.index[0]\n",
    "\n",
    "# splitting the dataframe before and after the London index\n",
    "df_a = df_selected.iloc[:index_of_london]\n",
    "df_b = df_selected.iloc[index_of_london:]\n",
    "\n",
    "# reshaping of dataframe\n",
    "df = df_b.append(df_a).reset_index(drop=True)"
   ]
  },
  {
   "cell_type": "code",
   "execution_count": null,
   "metadata": {},
   "outputs": [],
   "source": []
  }
 ],
 "metadata": {
  "kernelspec": {
   "display_name": "Python 3",
   "language": "python",
   "name": "python3"
  },
  "language_info": {
   "codemirror_mode": {
    "name": "ipython",
    "version": 3
   },
   "file_extension": ".py",
   "mimetype": "text/x-python",
   "name": "python",
   "nbconvert_exporter": "python",
   "pygments_lexer": "ipython3",
   "version": "3.8.3"
  }
 },
 "nbformat": 4,
 "nbformat_minor": 4
}
