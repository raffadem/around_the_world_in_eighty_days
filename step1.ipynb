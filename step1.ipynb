{
 "cells": [
  {
   "cell_type": "code",
   "execution_count": null,
   "metadata": {},
   "outputs": [],
   "source": [
    "import pandas as pd\n",
    "import numpy as np\n",
    "from matplotlib import pyplot as plt"
   ]
  },
  {
   "cell_type": "code",
   "execution_count": null,
   "metadata": {},
   "outputs": [],
   "source": [
    "# reading the excel file\n",
    "df_start = pd.read_excel('worldcities.xlsx')\n",
    "\n",
    "#get a data frame with selected columns\n",
    "FORMAT = ['city', 'lat', 'lng','country','iso2','population']\n",
    "df_selected = df_start[FORMAT]\n",
    "\n",
    "#insert in the dataframe the flag for the population\n",
    "df_selected[\"flg_pop\"]=df_selected.population.apply(lambda x: 1 if x > 200000 else 0 )\n",
    "\n",
    "# sorting values by longitude\n",
    "df_selected.sort_values(by=['lng'], inplace=True, ignore_index=True)\n",
    "\n",
    "# searching the index of London (GB)\n",
    "rslt_df = df_selected.loc[(df_selected['city'] == 'London') & \n",
    "              (df_selected['iso2']=='GB')] \n",
    "index_of_london = rslt_df.index[0]\n",
    "\n",
    "# splitting the dataframe before and after the London index\n",
    "df_a = df_selected.iloc[:index_of_london]\n",
    "df_b = df_selected.iloc[index_of_london:]\n",
    "\n",
    "# reshaping of dataframe\n",
    "df = df_b.append(df_a).reset_index(drop=True)"
   ]
  },
  {
   "cell_type": "code",
   "execution_count": null,
   "metadata": {},
   "outputs": [],
   "source": [
    "class AroundTheWorld(object):\n",
    "    \n",
    "    def __init__(self,dataframe):\n",
    "        self.dataframe=dataframe\n",
    "    \n",
    "    def generate_grid(self, city_start, country_start, x_size=0.2, y_size=0.1):\n",
    "        start_point = self.dataframe.loc[(self.dataframe['city'] == city_start) & (self.dataframe['iso2']==country_start)][['lng','lat']].loc[0]\n",
    "        point=tuple(start_point)\n",
    "        y_midpoint=point #midpoint of shortest side of rectangular\n",
    "        y_a=(y_midpoint[0],y_midpoint[1]-y_size/2)\n",
    "        y_b=(y_midpoint[0],y_midpoint[1]+y_size/2)\n",
    "        y_c=(y_b[0]+x_size,y_b[1])\n",
    "        y_d=(y_c[0],y_a[1])\n",
    "        print(y_midpoint, y_a, y_b, y_c, y_d)\n",
    "        \n",
    "    #def query(self):   "
   ]
  },
  {
   "cell_type": "code",
   "execution_count": null,
   "metadata": {},
   "outputs": [],
   "source": [
    "around = AroundTheWorld(df)\n",
    "around.generate_grid(\"London\", \"GB\")"
   ]
  },
  {
   "cell_type": "code",
   "execution_count": null,
   "metadata": {
    "scrolled": true
   },
   "outputs": [],
   "source": [
    "plt.figure(figsize=(20,14))\n",
    "plt.scatter(df.lng,df.lat, color=\"green\", marker=\"o\", alpha=0.5)\n",
    "plt.xlabel(\"Longitude\")\n",
    "plt.ylabel(\"Latitude\")\n",
    "plt.grid()\n",
    "plt.show()"
   ]
  },
  {
   "cell_type": "code",
   "execution_count": null,
   "metadata": {},
   "outputs": [],
   "source": []
  }
 ],
 "metadata": {
  "kernelspec": {
   "display_name": "Python 3",
   "language": "python",
   "name": "python3"
  },
  "language_info": {
   "codemirror_mode": {
    "name": "ipython",
    "version": 3
   },
   "file_extension": ".py",
   "mimetype": "text/x-python",
   "name": "python",
   "nbconvert_exporter": "python",
   "pygments_lexer": "ipython3",
   "version": "3.8.3"
  }
 },
 "nbformat": 4,
 "nbformat_minor": 4
}
