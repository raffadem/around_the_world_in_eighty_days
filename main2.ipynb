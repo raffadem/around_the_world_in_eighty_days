{
 "cells": [
  {
   "cell_type": "code",
   "execution_count": null,
   "metadata": {},
   "outputs": [],
   "source": [
    "from around_the_world_with_documentation import AroundTheWorld\n",
    "import pandas as pd"
   ]
  },
  {
   "cell_type": "code",
   "execution_count": null,
   "metadata": {},
   "outputs": [],
   "source": [
    "dataframe = pd.read_excel(\"worldcities.xlsx\")\n",
    "around = AroundTheWorld(\n",
    "    dataframe, \n",
    "    \"London\", \n",
    "    \"GB\",\n",
    "    n_min = 3, \n",
    "    x_size = 0.3,\n",
    "    y_size = 0.1,\n",
    "    rise_factor = 2)\n",
    "around.travel(\n",
    "    is_intermediate_plot = True,\n",
    "    n_intermediate_step = 100,\n",
    "    is_clear_output = True)"
   ]
  },
  {
   "cell_type": "code",
   "execution_count": null,
   "metadata": {},
   "outputs": [],
   "source": [
    "pd.set_option(\"display.max_rows\", None, \"display.max_columns\", None)\n",
    "print(around.map_city.to_string(index=False))"
   ]
  }
 ],
 "metadata": {
  "kernelspec": {
   "display_name": "Python 3",
   "language": "python",
   "name": "python3"
  },
  "language_info": {
   "codemirror_mode": {
    "name": "ipython",
    "version": 3
   },
   "file_extension": ".py",
   "mimetype": "text/x-python",
   "name": "python",
   "nbconvert_exporter": "python",
   "pygments_lexer": "ipython3",
   "version": "3.8.3"
  }
 },
 "nbformat": 4,
 "nbformat_minor": 4
}
